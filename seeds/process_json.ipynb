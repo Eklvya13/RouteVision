{
 "cells": [
  {
   "cell_type": "code",
   "execution_count": 19,
   "id": "e2719f8c-dbfa-4b1e-ac23-504b0f3e09cc",
   "metadata": {},
   "outputs": [],
   "source": [
    "import math\n",
    "\n",
    "def haversine(src, des):\n",
    "    lat1, lon1 = src[0], src[1]\n",
    "    lat2, lon2 = des[0], des[1]\n",
    "    R = 6371000\n",
    "    phi1 = math.radians(lat1)\n",
    "    phi2 = math.radians(lat2)\n",
    "    delta_phi = math.radians(lat2 - lat1)\n",
    "    delta_lambda = math.radians(lon2 - lon1)\n",
    "\n",
    "    a = math.sin(delta_phi / 2) ** 2 + math.cos(phi1) * math.cos(phi2) * math.sin(delta_lambda / 2) ** 2\n",
    "    c = 2 * math.atan2(math.sqrt(a), math.sqrt(1 - a))\n",
    "\n",
    "    return R * c  # Distance in meters"
   ]
  },
  {
   "cell_type": "code",
   "execution_count": 27,
   "id": "8683bf91-473c-4f2c-a246-14e11196e59c",
   "metadata": {},
   "outputs": [],
   "source": [
    "# clockwise\n",
    "def calculate_bearing(src, des):\n",
    "    lat1, lon1 = src[0], src[1]\n",
    "    lat2, lon2 = des[0], des[1]\n",
    "    \n",
    "    lat1 = math.radians(lat1)\n",
    "    lon1 = math.radians(lon1)\n",
    "    lat2 = math.radians(lat2)\n",
    "    lon2 = math.radians(lon2)\n",
    "\n",
    "    delta_lon = lon2 - lon1\n",
    "\n",
    "    x = math.sin(delta_lon) * math.cos(lat2)\n",
    "    y = math.cos(lat1) * math.sin(lat2) - (math.sin(lat1) * math.cos(lat2) * math.cos(delta_lon))\n",
    "    initial_bearing = math.atan2(x, y)\n",
    "\n",
    "    initial_bearing = math.degrees(initial_bearing)\n",
    "\n",
    "    compass_bearing = (initial_bearing + 360) % 360\n",
    "\n",
    "    return compass_bearing\n"
   ]
  },
  {
   "cell_type": "code",
   "execution_count": 25,
   "id": "02c65e0f-e8ef-47d2-8c8b-e940ccef470a",
   "metadata": {},
   "outputs": [
    {
     "name": "stdout",
     "output_type": "stream",
     "text": [
      "208.78081401749466\n"
     ]
    }
   ],
   "source": [
    "print(calculate_bearing([25.4358, 81.8463], [24.5362, 81.3037]))"
   ]
  },
  {
   "cell_type": "code",
   "execution_count": 3,
   "id": "76f6a856-d70b-46b3-82bd-c38bfd3ca2e9",
   "metadata": {},
   "outputs": [
    {
     "name": "stdout",
     "output_type": "stream",
     "text": [
      "114003.6627918423\n"
     ]
    }
   ],
   "source": [
    "print(haversine(25.4358, 81.8463, 24.5362, 81.3037))"
   ]
  },
  {
   "cell_type": "code",
   "execution_count": 9,
   "id": "6a325309-fdad-4da3-8852-239fd5a2e39a",
   "metadata": {},
   "outputs": [],
   "source": [
    "def time_taken(distance, speed=10):\n",
    "    return distance / speed  # Time in seconds"
   ]
  },
  {
   "cell_type": "code",
   "execution_count": 13,
   "id": "b5d2bf38-07b1-4c76-b88b-9492aded6731",
   "metadata": {},
   "outputs": [],
   "source": [
    "import json\n",
    "\n",
    "def load_json_file(file_path):\n",
    "    try:\n",
    "        with open(file_path, 'r') as file:\n",
    "            data = json.load(file)  # Load the file into a Python dictionary\n",
    "        return data\n",
    "    except FileNotFoundError:\n",
    "        print(f\"Error: {file_path} not found.\")\n",
    "        return None\n",
    "    except json.JSONDecodeError:\n",
    "        print(f\"Error: Failed to decode JSON from {file_path}.\")\n",
    "        return None"
   ]
  },
  {
   "cell_type": "code",
   "execution_count": 36,
   "id": "94c2013c-de4a-4009-b769-42859b6a8497",
   "metadata": {},
   "outputs": [],
   "source": [
    "def populate_coord_list(file_path):\n",
    "    json_file = load_json_file(file_path)\n",
    "    ret = json_file['routes'][0]['geometry']['coordinates']\n",
    "    return ret"
   ]
  },
  {
   "cell_type": "code",
   "execution_count": 60,
   "id": "0545cdf9-d4e0-4539-b2cd-46002424cfaf",
   "metadata": {},
   "outputs": [],
   "source": [
    "from datetime import datetime, timedelta\n",
    "date_string = \"1/10/24 09:00\"\n",
    "date_format = \"%d/%m/%y %H:%M\"  # Format for parsing the date\n",
    "initial_time = datetime(2024, 10, 1, 9, 0)"
   ]
  },
  {
   "cell_type": "code",
   "execution_count": 38,
   "id": "b7994446-8857-4795-86b0-0e5b71bc234c",
   "metadata": {},
   "outputs": [],
   "source": [
    "soha_list = populate_coord_list(\"./soha.json\")"
   ]
  },
  {
   "cell_type": "code",
   "execution_count": 44,
   "id": "85c60b9d-a653-4f1a-b1b3-5855179302c2",
   "metadata": {},
   "outputs": [
    {
     "name": "stdout",
     "output_type": "stream",
     "text": [
      "603\n"
     ]
    }
   ],
   "source": [
    "print(len(soha_list))"
   ]
  },
  {
   "cell_type": "code",
   "execution_count": 74,
   "id": "bfd90a4c-5192-4ab7-b69e-e2e4253e57e3",
   "metadata": {},
   "outputs": [],
   "source": [
    "def generate_route_data(file_path, speed=10):\n",
    "    coordinates = populate_coord_list(file_path)\n",
    "    route_data = []\n",
    "\n",
    "    if not coordinates:\n",
    "        return route_data  # Return an empty list if no coordinates\n",
    "\n",
    "    # Set the initial timestamp for the first coordinate\n",
    "    current_time = initial_time\n",
    "\n",
    "    # Loop through coordinates, calculating bearing and timestamps\n",
    "    for i in range(len(coordinates) - 1):\n",
    "        coordinate = coordinates[i]\n",
    "        bearing = calculate_bearing(coordinates[i], coordinates[i + 1])\n",
    "        \n",
    "        # Calculate the distance between the current and next coordinate\n",
    "        distance = haversine(coordinates[i], coordinates[i + 1])\n",
    "        # Calculate time taken based on the distance and speed\n",
    "        time_interval = time_taken(distance, speed)\n",
    "        # Update the current time\n",
    "        current_time += timedelta(seconds=time_interval)\n",
    "        \n",
    "        # Append dictionary to the result list with the current coordinate\n",
    "        route_data.append({\n",
    "            'coordinate': coordinate,\n",
    "            'bearing': bearing,\n",
    "            'timestamp': current_time.isoformat()\n",
    "        })\n",
    "\n",
    "    # Append the last coordinate with its bearing and timestamp\n",
    "    last_coordinate = coordinates[-1]\n",
    "    last_bearing = calculate_bearing(coordinates[-2], last_coordinate) if len(coordinates) > 1 else None\n",
    "    route_data.append({\n",
    "        'coordinate': last_coordinate,\n",
    "        'bearing': last_bearing,\n",
    "        'timestamp': current_time.isoformat()\n",
    "    })\n",
    "\n",
    "    return route_data"
   ]
  },
  {
   "cell_type": "code",
   "execution_count": 90,
   "id": "e48563bf-cecb-4eb8-ac13-7ffe948ecfea",
   "metadata": {},
   "outputs": [],
   "source": [
    "soha_final = generate_route_data(\"./soha.json\", 20)"
   ]
  },
  {
   "cell_type": "code",
   "execution_count": 95,
   "id": "4ff75a80-df65-4e85-9035-c73bcf10c47e",
   "metadata": {},
   "outputs": [],
   "source": [
    "retDictSoha = {\n",
    "    'points': soha_final, \n",
    "    'metadata': {\n",
    "        'title' : 'PRYG - REWA RD',\n",
    "        'speed' : 20\n",
    "    }\n",
    "}"
   ]
  },
  {
   "cell_type": "code",
   "execution_count": 97,
   "id": "369d29ea-a41a-4074-ba85-3701df0e10b5",
   "metadata": {},
   "outputs": [],
   "source": [
    "with open('soha_final.json', 'w') as json_file:\n",
    "    json.dump(retDictSoha, json_file, indent=4)"
   ]
  },
  {
   "cell_type": "code",
   "execution_count": 86,
   "id": "dc1ad6e6-bd0a-4f89-9fa0-e84065ea7b23",
   "metadata": {},
   "outputs": [
    {
     "name": "stdout",
     "output_type": "stream",
     "text": [
      "603\n"
     ]
    }
   ],
   "source": [
    "soha_final = generate_route_data(\"./soha.json\", 10)"
   ]
  },
  {
   "cell_type": "code",
   "execution_count": 101,
   "id": "c1151fae-1787-4d7a-810e-3d0f8dfd6bc5",
   "metadata": {},
   "outputs": [],
   "source": [
    "civil_final = generate_route_data(\"./civil.json\", 10)\n",
    "\n",
    "retDictCivil = {\n",
    "    'points': civil_final, \n",
    "    'metadata': {\n",
    "        'title' : 'Civil Lines sq',\n",
    "        'speed' : 10\n",
    "    }\n",
    "}\n",
    "\n",
    "with open('civil_final.json', 'w') as json_file:\n",
    "    json.dump(retDictCivil, json_file, indent=4)"
   ]
  },
  {
   "cell_type": "code",
   "execution_count": null,
   "id": "fbd13c57-51e5-498d-a844-5984306a4300",
   "metadata": {},
   "outputs": [],
   "source": []
  }
 ],
 "metadata": {
  "kernelspec": {
   "display_name": "Python 3 (ipykernel)",
   "language": "python",
   "name": "python3"
  },
  "language_info": {
   "codemirror_mode": {
    "name": "ipython",
    "version": 3
   },
   "file_extension": ".py",
   "mimetype": "text/x-python",
   "name": "python",
   "nbconvert_exporter": "python",
   "pygments_lexer": "ipython3",
   "version": "3.12.4"
  }
 },
 "nbformat": 4,
 "nbformat_minor": 5
}
